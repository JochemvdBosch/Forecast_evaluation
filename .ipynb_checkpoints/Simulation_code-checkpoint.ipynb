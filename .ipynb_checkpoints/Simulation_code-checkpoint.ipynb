{
 "cells": [
  {
   "cell_type": "markdown",
   "id": "c475a813",
   "metadata": {},
   "source": [
    "# Simulation code"
   ]
  },
  {
   "cell_type": "markdown",
   "id": "37de781d",
   "metadata": {},
   "source": [
    "Simulating the forecaste evaluation time takes a significant time. This program is only for simulation and is slightly faster. This is because the horizon is equal to 1, so we can set the bandwidth parameter of the Bartlett kernel equal to zero. The three models are also seperate. This code is 10% faster than the evaluation code."
   ]
  },
  {
   "cell_type": "markdown",
   "id": "467ede94",
   "metadata": {},
   "source": [
    "## Imports"
   ]
  },
  {
   "cell_type": "code",
   "execution_count": 2,
   "id": "18a2a4de",
   "metadata": {},
   "outputs": [],
   "source": [
    "import pandas as pd\n",
    "import numpy as np\n",
    "import seaborn as sns\n",
    "import matplotlib.pyplot as plt\n",
    "from joblib import Parallel, delayed\n",
    "import time"
   ]
  },
  {
   "cell_type": "markdown",
   "id": "36f7a9e2",
   "metadata": {},
   "source": [
    "## Non-linear models"
   ]
  },
  {
   "cell_type": "markdown",
   "id": "d47640dd",
   "metadata": {},
   "source": [
    "These three models transform the vector of explanatory variables $S_t$ into a vector of nonlinear transformed variables $G(S_t;\\varphi)$."
   ]
  },
  {
   "cell_type": "code",
   "execution_count": 3,
   "id": "57340686",
   "metadata": {},
   "outputs": [],
   "source": [
    "def TR_model(S_t, gamma):\n",
    "    return (S_t >= gamma).astype(float).reshape(-1, 1)\n",
    "\n",
    "def LSTR_model(S_t,gamma,tau):\n",
    "    return ((1+np.exp(-tau * (S_t-gamma)))**-1).reshape(-1, 1)\n",
    "\n",
    "def ESTR_model(S_t,gamma,tau):\n",
    "    return (1-np.exp(-tau * (S_t-gamma)**2)).reshape(-1, 1)"
   ]
  },
  {
   "cell_type": "markdown",
   "id": "af7215b6",
   "metadata": {},
   "source": [
    "## Test statistics TR"
   ]
  },
  {
   "cell_type": "code",
   "execution_count": 149,
   "id": "94aecca5",
   "metadata": {},
   "outputs": [],
   "source": [
    "def cal_g_theta_TR(S_t, # Vector of S_t\n",
    "                L_t, # Vector of loss function\n",
    "                R_size, # Integer\n",
    "                P_size, # Integer\n",
    "                T_size, # Integer\n",
    "                ):\n",
    "\n",
    "    # Simulate a matrix of the standard normal distribution\n",
    "    v_t = np.random.normal(0,1,(P_size,iterations_CV))\n",
    "\n",
    "    # Initialize the critical values with a minimum value \n",
    "    crit_values = np.full(iterations_CV,-100)\n",
    "\n",
    "    # Create an array of gamma value that are used in the for loop\n",
    "    gamma_quantile = np.linspace(0.15,0.85,grid_elements)\n",
    "\n",
    "    # Get psi (scalar)\n",
    "    Q_t = np.stack([np.column_stack((np.ones((T_size,1)),np.multiply(np.ones((T_size,1)),\n",
    "                                                                         TR_model(S_t,np.quantile(S_t,gamma_quantile[i])))))\n",
    "                                                                       for i in range(grid_elements)])\n",
    "    \n",
    "    psi = np.stack(estimateBeta(Q_t[i,R_size:R_size+P_size+1],L_t) for i in range(grid_elements))\n",
    "    \n",
    "    Q_sel = np.transpose(np.lib.stride_tricks.sliding_window_view(Q_t,R_size,axis=1)[:,:P_size],(0,1,3,2))\n",
    "\n",
    "    residual_sel = L_t - Q_sel[:,:,-1] @ psi\n",
    "\n",
    "    score = Q_sel[:,:,-1] * residual_sel\n",
    " \n",
    "    score_trans = np.transpose(score, (0, 2, 1))\n",
    "        \n",
    "    lambda_sum = score_trans @ v_t\n",
    "\n",
    "    V_P = np.transpose(score,(0,2,1)) @ score / P_size\n",
    "    M_P = np.transpose(Q_sel[:,:,-1],(0,2,1)) @ Q_sel[:,:,-1] / P_size\n",
    " \n",
    "    M_P_inv = np.stack(np.linalg.inv(M_Ps) for M_Ps in M_P)\n",
    "    \n",
    "    V_star = M_P_inv @ V_P @ M_P_inv\n",
    "\n",
    "    V_star_inv = np.stack(np.linalg.inv(V_stars) for V_stars in V_star)\n",
    "\n",
    "    W_P = P_size * (np.transpose(psi,(0,2,1)) @ V_star_inv @ psi)\n",
    "\n",
    "    lambda_P = np.transpose(lambda_sum / P_size**0.5,(0,2,1))\n",
    "\n",
    "    W_P_j = np.sum(np.matmul(lambda_P, M_P_inv @ V_star_inv @ M_P_inv) * lambda_P,axis=2)\n",
    "        \n",
    "    crit_values = np.max(W_P_j,axis=0)\n",
    "    \n",
    "    # Get the test statistic of all W_P values\n",
    "    g_theta = max(W_P)[0][0]\n",
    "    \n",
    "    # Sort the Monte Carlo simulations and get critical value\n",
    "    crit_values.sort()\n",
    "    final_crit_value = crit_values[round((1-signi_level) * iterations_CV)-1]\n",
    "    \n",
    "#     print(g_theta)\n",
    "#     print(final_crit_value)\n",
    "    # Check if the test statistic \n",
    "    if (g_theta > final_crit_value):\n",
    "        return 1\n",
    "    else:\n",
    "        return 0"
   ]
  },
  {
   "cell_type": "markdown",
   "id": "61224e04",
   "metadata": {},
   "source": [
    "## Test statistics LSTR"
   ]
  },
  {
   "cell_type": "markdown",
   "id": "2b5af936",
   "metadata": {},
   "source": [
    "## Test statistics ESTR\n"
   ]
  },
  {
   "cell_type": "markdown",
   "id": "788bedc3",
   "metadata": {},
   "source": [
    "## Model 1"
   ]
  },
  {
   "cell_type": "code",
   "execution_count": 6,
   "id": "65c2e371",
   "metadata": {},
   "outputs": [],
   "source": [
    "# Simple method to estimate the OLS estimates\n",
    "def estimateBeta(Z_t,Y_t):\n",
    "    return np.linalg.inv(np.transpose(Z_t) @ Z_t) @ np.transpose(Z_t) @ Y_t"
   ]
  },
  {
   "cell_type": "code",
   "execution_count": 161,
   "id": "3dc9dae6",
   "metadata": {
    "scrolled": false
   },
   "outputs": [],
   "source": [
    "def MonteCarlo_1(iterations,R,P,T):\n",
    "        \n",
    "    #define variable to keep track of amount of rejects\n",
    "    MC_array = Parallel(n_jobs=6)(delayed(MonteCarlo_iteration_1)(R,P,T) for i in range(iterations))\n",
    "    \n",
    "    return np.mean(MC_array)\n",
    "    \n",
    "# def MonteCarlo_1(iterations,R,P,T):\n",
    "#     MC_array =np.zeros(iterations)    \n",
    "#     #define variable to keep track of amount of rejects\n",
    "    \n",
    "#     for i in range(iterations):\n",
    "#         MC_array[i] = MonteCarlo_iteration_1(R,P,T)    \n",
    "     \n",
    "#     return np.mean(MC_array)\n",
    "    \n",
    "def MonteCarlo_iteration_1(R,P,T):\n",
    "    #simulate model, it only returns vectors:\n",
    "    sim_z1, sim_z2, sim_y_t, sim_S_t = sim_model_1(T)\n",
    "\n",
    "    delta_L = cal_delta_L_1(sim_z1, sim_z2, sim_y_t, R, P, T)\n",
    "\n",
    "    return cal_g_theta_TR(S_t=sim_S_t, L_t=delta_L, R_size=R, P_size=P,T_size=T)\n",
    "\n",
    "    \n",
    "def MonteCarlo_2(iterations,R,P,T,c):\n",
    "        \n",
    "    #define variable to keep track of amount of rejects\n",
    "    MC_array = Parallel(n_jobs=6)(delayed(MonteCarlo_iteration_2)(R,P,T,c) for i in range(iterations))\n",
    "    \n",
    "    return np.mean(MC_array)\n",
    "    \n",
    "# def MonteCarlo_2(iterations,R,P,T,c):\n",
    "#     MC_array =np.zeros(iterations)    \n",
    "#     #define variable to keep track of amount of rejects\n",
    "    \n",
    "#     for i in range(iterations):\n",
    "#         MC_array[i] = MonteCarlo_iteration_2(R,P,T,c)    \n",
    "    \n",
    "#     return np.mean(MC_array)\n",
    "    \n",
    "def MonteCarlo_iteration_2(R,P,T,c):\n",
    "    #simulate model, it only returns vectors:\n",
    "    sim_z1, sim_z2, sim_y_t, sim_S_t = sim_model_1(T)\n",
    "\n",
    "    delta_L_1 = cal_delta_L_1(sim_z1, sim_z2, sim_y_t, R, P, T)\n",
    "\n",
    "    delta_L = cal_delta_L_2(delta_L_1,sim_S_t[R:T],c)\n",
    "    \n",
    "    return cal_g_theta_TR(S_t=sim_S_t, L_t=delta_L, R_size=R, P_size=P,T_size=T)\n",
    "\n",
    "def sim_model_1(T):\n",
    "    y_t = np.zeros((T,1))\n",
    "    delta1 = delta2 = v = 1\n",
    "    z1 = np.random.normal(0,1,(T,1))\n",
    "    z2 = np.random.normal(0,1,(T,1))\n",
    "    S_t = np.random.normal(0,1,(T,1))\n",
    "    \n",
    "    y_t = v + delta1 + z1 + delta2 + z2 + np.random.normal(0, 1, (T,1))\n",
    "\n",
    "    #return vector values\n",
    "    return z1, z2, y_t, S_t\n",
    "\n",
    "\n",
    "def cal_delta_L_1(sim_z1, sim_z2, sim_y_t, R, P, T):\n",
    "    sim_z1 = np.column_stack([np.ones((T,1)),sim_z1])\n",
    "    sim_z2 = np.column_stack([np.ones((T,1)),sim_z2])\n",
    "    \n",
    "    delta_L = np.zeros((P,1))\n",
    "    \n",
    "    for t in range(R, T):\n",
    "        z1_sel = sim_z1[t-R:t]\n",
    "        z2_sel = sim_z2[t-R:t]\n",
    "        y_sel = sim_y_t[t-R+1:t+1]\n",
    "        \n",
    "        beta_1 = estimateBeta(z1_sel,y_sel)\n",
    "        beta_2 = estimateBeta(z2_sel,y_sel)\n",
    "\n",
    "        forecast1 = beta_1[0] + z1_sel[-1,1] * beta_1[1]\n",
    "        forecast2 = beta_2[0] + z2_sel[-1,1] * beta_2[1]\n",
    "\n",
    "        delta_L[t-R] = (y_sel[-1] - forecast1)**2 - (y_sel[-1] - forecast2)**2\n",
    "    \n",
    "    return delta_L\n",
    "\n",
    "def cal_delta_L_2(delta_L_old,S_sel,c):\n",
    "    gamma = 0\n",
    "    \n",
    "    mu = np.linspace(0,1,14)[c]\n",
    "    theta = -2*mu\n",
    "    \n",
    "    delta_L = delta_L_old + mu + theta * TR_model(S_sel,gamma)\n",
    "#     plt.plot(delta_L)\n",
    "#     plt.plot(S_sel)\n",
    "#     plt.show()\n",
    "    return delta_L"
   ]
  },
  {
   "cell_type": "markdown",
   "id": "ae2b7e6e",
   "metadata": {},
   "source": [
    "Choose one of the following model types:\n",
    "1. \"TR\"\n",
    "2. \"LSTR\"\n",
    "3. \"ESTR\""
   ]
  },
  {
   "cell_type": "code",
   "execution_count": 162,
   "id": "1a53b71d",
   "metadata": {
    "scrolled": true
   },
   "outputs": [
    {
     "name": "stdout",
     "output_type": "stream",
     "text": [
      "---TR model---\n",
      "For R = 25\n",
      "And P = 50\n",
      "The rejection rate is 0.074\n",
      "For R = 25\n",
      "And P = 100\n",
      "The rejection rate is 0.059\n",
      "For R = 25\n",
      "And P = 200\n",
      "The rejection rate is 0.043\n",
      "For R = 25\n",
      "And P = 1000\n",
      "The rejection rate is 0.025\n",
      "For R = 50\n",
      "And P = 50\n"
     ]
    },
    {
     "ename": "KeyboardInterrupt",
     "evalue": "",
     "output_type": "error",
     "traceback": [
      "\u001b[1;31m---------------------------------------------------------------------------\u001b[0m",
      "\u001b[1;31mKeyboardInterrupt\u001b[0m                         Traceback (most recent call last)",
      "Cell \u001b[1;32mIn [162], line 17\u001b[0m\n\u001b[0;32m     15\u001b[0m \u001b[38;5;28mprint\u001b[39m(\u001b[38;5;124m\"\u001b[39m\u001b[38;5;124mFor R =\u001b[39m\u001b[38;5;124m\"\u001b[39m,R_MC)\n\u001b[0;32m     16\u001b[0m \u001b[38;5;28mprint\u001b[39m(\u001b[38;5;124m\"\u001b[39m\u001b[38;5;124mAnd P =\u001b[39m\u001b[38;5;124m\"\u001b[39m,P_MC)\n\u001b[1;32m---> 17\u001b[0m \u001b[38;5;28mprint\u001b[39m(\u001b[38;5;124m\"\u001b[39m\u001b[38;5;124mThe rejection rate is\u001b[39m\u001b[38;5;124m\"\u001b[39m,\u001b[43mMonteCarlo_1\u001b[49m\u001b[43m(\u001b[49m\u001b[43mMC_iterations\u001b[49m\u001b[43m,\u001b[49m\u001b[43mR_MC\u001b[49m\u001b[43m,\u001b[49m\u001b[43mP_MC\u001b[49m\u001b[43m,\u001b[49m\u001b[43mT_MC\u001b[49m\u001b[43m)\u001b[49m)\n",
      "Cell \u001b[1;32mIn [161], line 4\u001b[0m, in \u001b[0;36mMonteCarlo_1\u001b[1;34m(iterations, R, P, T)\u001b[0m\n\u001b[0;32m      1\u001b[0m \u001b[38;5;28;01mdef\u001b[39;00m \u001b[38;5;21mMonteCarlo_1\u001b[39m(iterations,R,P,T):\n\u001b[0;32m      2\u001b[0m         \n\u001b[0;32m      3\u001b[0m     \u001b[38;5;66;03m#define variable to keep track of amount of rejects\u001b[39;00m\n\u001b[1;32m----> 4\u001b[0m     MC_array \u001b[38;5;241m=\u001b[39m \u001b[43mParallel\u001b[49m\u001b[43m(\u001b[49m\u001b[43mn_jobs\u001b[49m\u001b[38;5;241;43m=\u001b[39;49m\u001b[38;5;241;43m6\u001b[39;49m\u001b[43m)\u001b[49m\u001b[43m(\u001b[49m\u001b[43mdelayed\u001b[49m\u001b[43m(\u001b[49m\u001b[43mMonteCarlo_iteration_1\u001b[49m\u001b[43m)\u001b[49m\u001b[43m(\u001b[49m\u001b[43mR\u001b[49m\u001b[43m,\u001b[49m\u001b[43mP\u001b[49m\u001b[43m,\u001b[49m\u001b[43mT\u001b[49m\u001b[43m)\u001b[49m\u001b[43m \u001b[49m\u001b[38;5;28;43;01mfor\u001b[39;49;00m\u001b[43m \u001b[49m\u001b[43mi\u001b[49m\u001b[43m \u001b[49m\u001b[38;5;129;43;01min\u001b[39;49;00m\u001b[43m \u001b[49m\u001b[38;5;28;43mrange\u001b[39;49m\u001b[43m(\u001b[49m\u001b[43miterations\u001b[49m\u001b[43m)\u001b[49m\u001b[43m)\u001b[49m\n\u001b[0;32m      6\u001b[0m     \u001b[38;5;28;01mreturn\u001b[39;00m np\u001b[38;5;241m.\u001b[39mmean(MC_array)\n",
      "File \u001b[1;32m~\\anaconda3\\lib\\site-packages\\joblib\\parallel.py:1061\u001b[0m, in \u001b[0;36mParallel.__call__\u001b[1;34m(self, iterable)\u001b[0m\n\u001b[0;32m   1058\u001b[0m     \u001b[38;5;28mself\u001b[39m\u001b[38;5;241m.\u001b[39m_iterating \u001b[38;5;241m=\u001b[39m \u001b[38;5;28;01mFalse\u001b[39;00m\n\u001b[0;32m   1060\u001b[0m \u001b[38;5;28;01mwith\u001b[39;00m \u001b[38;5;28mself\u001b[39m\u001b[38;5;241m.\u001b[39m_backend\u001b[38;5;241m.\u001b[39mretrieval_context():\n\u001b[1;32m-> 1061\u001b[0m     \u001b[38;5;28;43mself\u001b[39;49m\u001b[38;5;241;43m.\u001b[39;49m\u001b[43mretrieve\u001b[49m\u001b[43m(\u001b[49m\u001b[43m)\u001b[49m\n\u001b[0;32m   1062\u001b[0m \u001b[38;5;66;03m# Make sure that we get a last message telling us we are done\u001b[39;00m\n\u001b[0;32m   1063\u001b[0m elapsed_time \u001b[38;5;241m=\u001b[39m time\u001b[38;5;241m.\u001b[39mtime() \u001b[38;5;241m-\u001b[39m \u001b[38;5;28mself\u001b[39m\u001b[38;5;241m.\u001b[39m_start_time\n",
      "File \u001b[1;32m~\\anaconda3\\lib\\site-packages\\joblib\\parallel.py:938\u001b[0m, in \u001b[0;36mParallel.retrieve\u001b[1;34m(self)\u001b[0m\n\u001b[0;32m    936\u001b[0m \u001b[38;5;28;01mtry\u001b[39;00m:\n\u001b[0;32m    937\u001b[0m     \u001b[38;5;28;01mif\u001b[39;00m \u001b[38;5;28mgetattr\u001b[39m(\u001b[38;5;28mself\u001b[39m\u001b[38;5;241m.\u001b[39m_backend, \u001b[38;5;124m'\u001b[39m\u001b[38;5;124msupports_timeout\u001b[39m\u001b[38;5;124m'\u001b[39m, \u001b[38;5;28;01mFalse\u001b[39;00m):\n\u001b[1;32m--> 938\u001b[0m         \u001b[38;5;28mself\u001b[39m\u001b[38;5;241m.\u001b[39m_output\u001b[38;5;241m.\u001b[39mextend(\u001b[43mjob\u001b[49m\u001b[38;5;241;43m.\u001b[39;49m\u001b[43mget\u001b[49m\u001b[43m(\u001b[49m\u001b[43mtimeout\u001b[49m\u001b[38;5;241;43m=\u001b[39;49m\u001b[38;5;28;43mself\u001b[39;49m\u001b[38;5;241;43m.\u001b[39;49m\u001b[43mtimeout\u001b[49m\u001b[43m)\u001b[49m)\n\u001b[0;32m    939\u001b[0m     \u001b[38;5;28;01melse\u001b[39;00m:\n\u001b[0;32m    940\u001b[0m         \u001b[38;5;28mself\u001b[39m\u001b[38;5;241m.\u001b[39m_output\u001b[38;5;241m.\u001b[39mextend(job\u001b[38;5;241m.\u001b[39mget())\n",
      "File \u001b[1;32m~\\anaconda3\\lib\\site-packages\\joblib\\_parallel_backends.py:542\u001b[0m, in \u001b[0;36mLokyBackend.wrap_future_result\u001b[1;34m(future, timeout)\u001b[0m\n\u001b[0;32m    539\u001b[0m \u001b[38;5;124;03m\"\"\"Wrapper for Future.result to implement the same behaviour as\u001b[39;00m\n\u001b[0;32m    540\u001b[0m \u001b[38;5;124;03mAsyncResults.get from multiprocessing.\"\"\"\u001b[39;00m\n\u001b[0;32m    541\u001b[0m \u001b[38;5;28;01mtry\u001b[39;00m:\n\u001b[1;32m--> 542\u001b[0m     \u001b[38;5;28;01mreturn\u001b[39;00m \u001b[43mfuture\u001b[49m\u001b[38;5;241;43m.\u001b[39;49m\u001b[43mresult\u001b[49m\u001b[43m(\u001b[49m\u001b[43mtimeout\u001b[49m\u001b[38;5;241;43m=\u001b[39;49m\u001b[43mtimeout\u001b[49m\u001b[43m)\u001b[49m\n\u001b[0;32m    543\u001b[0m \u001b[38;5;28;01mexcept\u001b[39;00m CfTimeoutError \u001b[38;5;28;01mas\u001b[39;00m e:\n\u001b[0;32m    544\u001b[0m     \u001b[38;5;28;01mraise\u001b[39;00m \u001b[38;5;167;01mTimeoutError\u001b[39;00m \u001b[38;5;28;01mfrom\u001b[39;00m \u001b[38;5;21;01me\u001b[39;00m\n",
      "File \u001b[1;32m~\\anaconda3\\lib\\concurrent\\futures\\_base.py:441\u001b[0m, in \u001b[0;36mFuture.result\u001b[1;34m(self, timeout)\u001b[0m\n\u001b[0;32m    438\u001b[0m \u001b[38;5;28;01melif\u001b[39;00m \u001b[38;5;28mself\u001b[39m\u001b[38;5;241m.\u001b[39m_state \u001b[38;5;241m==\u001b[39m FINISHED:\n\u001b[0;32m    439\u001b[0m     \u001b[38;5;28;01mreturn\u001b[39;00m \u001b[38;5;28mself\u001b[39m\u001b[38;5;241m.\u001b[39m__get_result()\n\u001b[1;32m--> 441\u001b[0m \u001b[38;5;28;43mself\u001b[39;49m\u001b[38;5;241;43m.\u001b[39;49m\u001b[43m_condition\u001b[49m\u001b[38;5;241;43m.\u001b[39;49m\u001b[43mwait\u001b[49m\u001b[43m(\u001b[49m\u001b[43mtimeout\u001b[49m\u001b[43m)\u001b[49m\n\u001b[0;32m    443\u001b[0m \u001b[38;5;28;01mif\u001b[39;00m \u001b[38;5;28mself\u001b[39m\u001b[38;5;241m.\u001b[39m_state \u001b[38;5;129;01min\u001b[39;00m [CANCELLED, CANCELLED_AND_NOTIFIED]:\n\u001b[0;32m    444\u001b[0m     \u001b[38;5;28;01mraise\u001b[39;00m CancelledError()\n",
      "File \u001b[1;32m~\\anaconda3\\lib\\threading.py:312\u001b[0m, in \u001b[0;36mCondition.wait\u001b[1;34m(self, timeout)\u001b[0m\n\u001b[0;32m    310\u001b[0m \u001b[38;5;28;01mtry\u001b[39;00m:    \u001b[38;5;66;03m# restore state no matter what (e.g., KeyboardInterrupt)\u001b[39;00m\n\u001b[0;32m    311\u001b[0m     \u001b[38;5;28;01mif\u001b[39;00m timeout \u001b[38;5;129;01mis\u001b[39;00m \u001b[38;5;28;01mNone\u001b[39;00m:\n\u001b[1;32m--> 312\u001b[0m         \u001b[43mwaiter\u001b[49m\u001b[38;5;241;43m.\u001b[39;49m\u001b[43macquire\u001b[49m\u001b[43m(\u001b[49m\u001b[43m)\u001b[49m\n\u001b[0;32m    313\u001b[0m         gotit \u001b[38;5;241m=\u001b[39m \u001b[38;5;28;01mTrue\u001b[39;00m\n\u001b[0;32m    314\u001b[0m     \u001b[38;5;28;01melse\u001b[39;00m:\n",
      "\u001b[1;31mKeyboardInterrupt\u001b[0m: "
     ]
    }
   ],
   "source": [
    "#simulation speed:\n",
    "MC_iterations = 1000\n",
    "grid_elements = 30\n",
    "iterations_CV = 500\n",
    "signi_level = 0.05\n",
    "\n",
    "# You can modify these variables\n",
    "R_MC_array = [25,50,100]\n",
    "P_MC_array = [50,100,200,1000]\n",
    "\n",
    "print(\"---TR model---\")\n",
    "for R_MC in R_MC_array:\n",
    "    for P_MC in P_MC_array:\n",
    "        T_MC = R_MC + P_MC\n",
    "        print(\"For R =\",R_MC)\n",
    "        print(\"And P =\",P_MC)\n",
    "        print(\"The rejection rate is\",MonteCarlo_1(MC_iterations,R_MC,P_MC,T_MC))"
   ]
  },
  {
   "cell_type": "code",
   "execution_count": 157,
   "id": "a751d047",
   "metadata": {
    "scrolled": false
   },
   "outputs": [
    {
     "name": "stdout",
     "output_type": "stream",
     "text": [
      "---TR model---\n",
      "For c = 1\n",
      "The rejection rate is 0.048\n",
      "For c = 2\n",
      "The rejection rate is 0.113\n",
      "For c = 3\n",
      "The rejection rate is 0.36\n",
      "For c = 4\n",
      "The rejection rate is 0.651\n",
      "For c = 5\n",
      "The rejection rate is 0.833\n",
      "For c = 6\n",
      "The rejection rate is 0.953\n",
      "For c = 7\n",
      "The rejection rate is 0.984\n",
      "For c = 8\n",
      "The rejection rate is 0.999\n",
      "For c = 9\n",
      "The rejection rate is 0.999\n",
      "For c = 10\n",
      "The rejection rate is 1.0\n",
      "For c = 11\n",
      "The rejection rate is 1.0\n",
      "For c = 12\n",
      "The rejection rate is 1.0\n",
      "For c = 13\n",
      "The rejection rate is 1.0\n",
      "For c = 14\n",
      "The rejection rate is 1.0\n"
     ]
    }
   ],
   "source": [
    "#simulation speed:\n",
    "MC_iterations = 1000\n",
    "grid_elements = 20\n",
    "iterations_CV = 200\n",
    "signi_level = 0.05\n",
    "\n",
    "# You can modify these variables\n",
    "R_MC = 50\n",
    "P_MC = 200\n",
    "T_MC = R_MC + P_MC\n",
    "\n",
    "c_array  = np.arange(14)\n",
    "\n",
    "print(\"---TR model---\")\n",
    "for c in c_array:\n",
    "    print(\"For c =\",c+1)\n",
    "    print(\"The rejection rate is\",MonteCarlo_2(MC_iterations,R_MC,P_MC,T_MC,c))"
   ]
  },
  {
   "cell_type": "code",
   "execution_count": 71,
   "id": "e2bf7520",
   "metadata": {
    "scrolled": true
   },
   "outputs": [
    {
     "data": {
      "text/plain": [
       "12.082922613248522"
      ]
     },
     "execution_count": 71,
     "metadata": {},
     "output_type": "execute_result"
    }
   ],
   "source": [
    "crit_chi_iterations = 10000\n",
    "\n",
    "chi_array = np.stack(max(np.random.chisquare(2,20)) for i in range(crit_chi_iterations))\n",
    "chi_array = np.sort(chi_array)\n",
    "crit_chi = chi_array[round((1-signi_level) * crit_chi_iterations)-1]\n",
    "crit_chi"
   ]
  },
  {
   "cell_type": "code",
   "execution_count": 144,
   "id": "0e8e6eb1",
   "metadata": {},
   "outputs": [
    {
     "data": {
      "text/plain": [
       "0.0"
      ]
     },
     "execution_count": 144,
     "metadata": {},
     "output_type": "execute_result"
    }
   ],
   "source": []
  }
 ],
 "metadata": {
  "kernelspec": {
   "display_name": "Python 3 (ipykernel)",
   "language": "python",
   "name": "python3"
  },
  "language_info": {
   "codemirror_mode": {
    "name": "ipython",
    "version": 3
   },
   "file_extension": ".py",
   "mimetype": "text/x-python",
   "name": "python",
   "nbconvert_exporter": "python",
   "pygments_lexer": "ipython3",
   "version": "3.9.12"
  }
 },
 "nbformat": 4,
 "nbformat_minor": 5
}
